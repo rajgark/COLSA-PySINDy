{
 "cells": [
  {
   "cell_type": "markdown",
   "id": "3e5fac55",
   "metadata": {},
   "source": [
    "# PySINDy Exploration & Applications\n",
    "\n",
    "## COLSA Corporation \n",
    "\n",
    "### Raj Garkhedkar, DACS Lab Summer 2021 Intern"
   ]
  },
  {
   "cell_type": "markdown",
   "id": "bf1d7543",
   "metadata": {},
   "source": [
    "## Waves\n",
    "\n",
    "\n",
    "-- -- -- -- -- --\n",
    "###### Links \n",
    "\n",
    "[Convection Diffusion Equation ](https://www.sciencedirect.com/topics/physics-and-astronomy/convection-diffusion-equation)\n",
    "\n",
    "[Nonlinear Advection Diffusion Equation 2nd Order FD Scheme](https://math.mit.edu/classes/18.086/2014/reports/ZachCordero.pdf)\n",
    "\n",
    "[All Analytic Sol's Convection Diffusion](https://www.nature.com/articles/s41598-020-63982-w)\n",
    "\n",
    "[Reflected Sound Discriminator](https://github.com/diabelmehdi/Machine_Learning_project/blob/master/realiz/Documentation/machine%20learning%20report_DIAB_ELMEHDI.pdf)\n",
    "\n",
    "[Deep Learning Machine Solves the Cocktail Party Problem](https://www.technologyreview.com/2015/04/29/168316/deep-learning-machine-solves-the-cocktail-party-problem/)\n",
    "\n",
    "[Deep Karaoke: Extracting Vocals](https://arxiv.org/abs/1504.04658)\n",
    "\n",
    "[Diff Eq's in Physics](https://olewitthansen.dk/Physics/differential_equations_of_physics.pdf)"
   ]
  },
  {
   "cell_type": "code",
   "execution_count": 46,
   "id": "86f8770d",
   "metadata": {},
   "outputs": [
    {
     "name": "stdout",
     "output_type": "stream",
     "text": [
      "Warning: Cannot change to a different GUI toolkit: notebook. Using widget instead.\n"
     ]
    }
   ],
   "source": [
    "%matplotlib notebook\n",
    "import numpy as np\n",
    "import matplotlib.cm as cm\n",
    "import matplotlib.pyplot as plt\n",
    "import matplotlib.animation as animate\n",
    "import matplotlib.colors as colors\n",
    "import ipywidgets\n",
    "import PDE_FIND as pdefind\n",
    "from matplotlib.colors import LightSource\n",
    "from matplotlib import interactive, rc\n",
    "from IPython.display import HTML\n",
    "rc('animation', html='html5')"
   ]
  },
  {
   "cell_type": "markdown",
   "id": "e9d66744",
   "metadata": {},
   "source": [
    "## Advection - Diffusion PDE\n",
    "-- -- --\n",
    "The equation: \n",
    "$$u_t + a u_x = \\epsilon u_{xx}$$\n",
    "\n",
    "This might be the density or concentration of some substance and how the energy, particles, or some other physical quantity is transferred in a physical system through two processes: _diffusion and advection_. The subscripts denote partial differentiation; e.g. $u_t$ is the partial derivative of $u$ with respect to $t$. The coefficients $a$ and $\\epsilon$ are constants that determine the strength of the advective and diffusive effects. We wish to find $u(x,t)$. Depending on context, the same equation can be called the advection–diffusion equation, drift–diffusion equation, or scalar transport equation."
   ]
  },
  {
   "cell_type": "code",
   "execution_count": 2,
   "id": "6e7cf84f",
   "metadata": {},
   "outputs": [
    {
     "data": {
      "text/plain": [
       "6.283185307179586"
      ]
     },
     "execution_count": 2,
     "metadata": {},
     "output_type": "execute_result"
    }
   ],
   "source": [
    "2*np.pi"
   ]
  },
  {
   "cell_type": "markdown",
   "id": "d8844baa",
   "metadata": {},
   "source": [
    "### Exact Solution by Fourier Analysis\n",
    "\n",
    "Solved on a periodic domain $[-\\pi,\\pi]$, with some initial data: $$u(x,0) = u_0(x)$$\n",
    "\n",
    "Under the assumption that the solution is composed of a single Fourier mode with wavenumber $\\xi$ and time-dependent amplitude $\\hat{u}$:\n",
    "$$u(x,t; \\xi) = \\hat{u}(t) e^{i\\xi x}$$\n",
    "\n",
    "Then a simple ordinary differential equation for $\\hat{u}$:\n",
    "$$\\hat{u}'(t; \\xi) + i\\xi a \\hat{u} = -\\xi^2 \\epsilon \\hat{u}$$\n",
    "\n",
    "The scalar ODE can be solved exactly:\n",
    "$$\\hat{u}(t; \\xi) = e^{(-i \\xi a - \\epsilon \\xi^2)t} \\hat{u}(0)$$\n",
    "\n",
    "Every solution of our advection-diffusion equation can be written as a linear combination (a superposition) of simple solutions of the form above, with different wavenumbers $\\xi$. The general solution can be obtained by first, taking a Fourier transform of the initial data:\n",
    "$$\\hat{u}(t=0;\\xi) = \\frac{1}{\\sqrt{2\\pi}} \\int_{-\\infty}^\\infty u_0(x) e^{-i\\xi x}dx$$\n",
    "\n",
    "Then each mode evolves according to the solution of the ODE above:\n",
    "$$\\hat{u}'(t; \\xi) = e^{(-i \\xi a - \\epsilon \\xi^2)t} \\hat{u}(0;\\xi)$$\n",
    "\n",
    "A solution is constructed again by taking the inverse Fourier transform, meaning summing up all the Fourier modes:\n",
    "$$u(x,t) = \\frac{1}{\\sqrt{2\\pi}} \\int_{-\\infty}^\\infty \\hat{u}_0(x) e^{i\\xi x}d\\xi$$\n",
    "\n",
    "Discretizing the integral with finite points in space & time below:"
   ]
  },
  {
   "cell_type": "code",
   "execution_count": 38,
   "id": "8c2616f2",
   "metadata": {},
   "outputs": [],
   "source": [
    "m = 64                          # Number of grid points in space\n",
    "L = 2 * np.pi                   # Width of spatial domain\n",
    "x = np.arange(-m/2,m/2)*(L/m)   # Grid points \n",
    "dx = x[1]-x[0]                  # Grid spacing\n",
    "\n",
    "tmax = 8.0   # Final time\n",
    "N = 50       # # of grid points in time\n",
    "k = tmax/N   # interval between output times\n",
    "\n",
    "xi = np.fft.fftfreq(m)*m*2*np.pi/L \n",
    "\n",
    "# Initial data\n",
    "u = np.sin(2*x)**2 * (x<-L/4)\n",
    "uhat0 = np.fft.fft(u)"
   ]
  },
  {
   "cell_type": "markdown",
   "id": "bfd147b7",
   "metadata": {},
   "source": [
    "`xi = np.fft.fftfreq(m)*m*2*np.pi/L` order of numpy's FFT frequencies\n",
    "\n",
    "The functions $u, \\hat{u}$ discussed above are replaced by finite-dimensional vectors. These vectors are related through the discrete version of the Fourier transform (DFT). \n",
    "\n",
    "Initial conditions:\n",
    "\n",
    "$$u_0(x) = \\begin{cases} \\sin^2(2x) & -\\pi \\le x < -\\pi/2 \\\\ 0 & x>-\\pi/2 \\end{cases}$$\n",
    "\n",
    "`diffusion_coef` is epsilon, the diffusion coefficient\n",
    "\n",
    "`advection_coef` is the advection coefficient"
   ]
  },
  {
   "cell_type": "code",
   "execution_count": 39,
   "id": "ea1bfdb6",
   "metadata": {},
   "outputs": [],
   "source": [
    "diffusion_coef=0.06   # Diffusion coefficient\n",
    "advection_coef = 1       # Advection coefficient"
   ]
  },
  {
   "cell_type": "code",
   "execution_count": 47,
   "id": "f61acd26",
   "metadata": {},
   "outputs": [
    {
     "data": {
      "application/vnd.jupyter.widget-view+json": {
       "model_id": "30471f8eac0f4fee83fccef16cfb5070",
       "version_major": 2,
       "version_minor": 0
      },
      "text/plain": [
       "Canvas(toolbar=Toolbar(toolitems=[('Home', 'Reset original view', 'home', 'home'), ('Back', 'Back to previous …"
      ]
     },
     "metadata": {},
     "output_type": "display_data"
    }
   ],
   "source": [
    "\n",
    "# Solution list\n",
    "frames = [u.copy()]\n",
    "\n",
    "# Solution to problem\n",
    "for n in range(1,N+1):\n",
    "    t = n*k\n",
    "    uhat = np.exp(-(1.j*xi*advection_coef + diffusion_coef*xi**2)*t) * uhat0\n",
    "    u = np.real(np.fft.ifft(uhat))\n",
    "    frames.append(u.copy())\n",
    "\n",
    "# Initialize plotting\n",
    "fig = plt.figure(figsize=(9,4)); axes = fig.add_subplot(111)\n",
    "line, = axes.plot([],[],lw=3)\n",
    "axes.set_xlim((x[0],x[-1])); axes.set_ylim((0.,1.))\n",
    "\n",
    "def plot_frame(i):\n",
    "    line.set_data(x,frames[i])\n",
    "    axes.set_title('t='+str(i*k))\n",
    "    fig.canvas.draw()\n",
    "    return fig\n",
    "\n",
    "ani = animate.FuncAnimation(fig, plot_frame,\n",
    "                                   frames=len(frames),\n",
    "                                   interval=350,\n",
    "                                   repeat=True)\n",
    "plt.show()"
   ]
  },
  {
   "cell_type": "code",
   "execution_count": null,
   "id": "747e6a83",
   "metadata": {},
   "outputs": [],
   "source": []
  },
  {
   "cell_type": "markdown",
   "id": "67330c19",
   "metadata": {},
   "source": [
    "The first approximation was to take the initial data and approximate it by just the first terms in its Fourier series. The vector $\\hat{u}$ contains the first 64 Fourier modes (because 64 points are in the spatial grid vector $x$).\n",
    "\n",
    "The time evolution of the solution is exact for the initial data vector, since it uses the exact solution formula for the ODE above.\n",
    "\n",
    "### For Generality...\n",
    "This methodology can be used to solve any linear evolution PDE (including systems of PDEs, like the following scalar PDEs):\n",
    "\n",
    "$$u_t = \\sum_{j=0}^n \\alpha_j \\frac{\\partial^j u}{\\partial x^j}.$$\n",
    "Taking Fourier transform or applying our ansatz:\n",
    "$$u(x,t; \\xi) = \\hat{u}(t) e^{i\\xi x},$$\n",
    "The following linear ODE is obtained:\n",
    "$$\\hat{u}'(t) = \\left(\\sum_{j=0}^n \\alpha_j (i\\xi)^j\\right) \\hat{u}(t) = p(\\xi)\\hat{u}(t)$$\n",
    "With solution:\n",
    "$$\\hat{u}(t) = e^{p(\\xi)t}\\hat{u}(0)$$\n",
    "so that\n",
    "$$u(x,t; \\xi) = e^{i\\xi x + p(\\xi)t} \\hat{u}(0).$$\n",
    "Here $p(\\xi)$ is a polynomial with coefficients $i^j \\alpha_j$.\n",
    "\n",
    "The odd-derivative terms correspond to imaginary terms in $p(\\xi)$, which (in the exponential) lead to changes in the phase of the solution, while even-derivative terms correspond to real terms in $p(\\xi)$, which lead to changes in the amplitude of the solution."
   ]
  },
  {
   "cell_type": "code",
   "execution_count": null,
   "id": "861b20ad-e635-49eb-986a-de45a388cba0",
   "metadata": {},
   "outputs": [],
   "source": []
  },
  {
   "cell_type": "code",
   "execution_count": 48,
   "id": "b9346560",
   "metadata": {},
   "outputs": [
    {
     "data": {
      "text/plain": [
       "64"
      ]
     },
     "execution_count": 48,
     "metadata": {},
     "output_type": "execute_result"
    }
   ],
   "source": [
    "[len(a) for a in frames][0]"
   ]
  },
  {
   "cell_type": "code",
   "execution_count": 49,
   "id": "6ce86b79",
   "metadata": {},
   "outputs": [
    {
     "data": {
      "text/plain": [
       "(51, 64)"
      ]
     },
     "execution_count": 49,
     "metadata": {},
     "output_type": "execute_result"
    }
   ],
   "source": [
    "framearray = np.asarray(frames)\n",
    "framearray.shape"
   ]
  },
  {
   "cell_type": "markdown",
   "id": "657af5c6-7304-4670-b8b3-02dac74368a6",
   "metadata": {},
   "source": [
    "So there are 51 arrays with 64 discretized points of the wave per array, this forms the dataset showing the evolution of the waves. "
   ]
  },
  {
   "cell_type": "code",
   "execution_count": 51,
   "id": "0178e021",
   "metadata": {},
   "outputs": [
    {
     "data": {
      "text/plain": [
       "['1',\n",
       " 'u',\n",
       " 'u^2',\n",
       " 'u^3',\n",
       " 'u^4',\n",
       " 'u_{x}',\n",
       " 'uu_{x}',\n",
       " 'u^2u_{x}',\n",
       " 'u^3u_{x}',\n",
       " 'u^4u_{x}',\n",
       " 'u_{xx}',\n",
       " 'uu_{xx}',\n",
       " 'u^2u_{xx}',\n",
       " 'u^3u_{xx}',\n",
       " 'u^4u_{xx}']"
      ]
     },
     "execution_count": 51,
     "metadata": {},
     "output_type": "execute_result"
    }
   ],
   "source": [
    "Ut, R, rhs_des = pdefind.build_linear_system(framearray, k, dx, D=2, P=4, time_diff = 'FD', space_diff = 'FD')\n",
    "['1'] + rhs_des[1:]"
   ]
  },
  {
   "cell_type": "code",
   "execution_count": 52,
   "id": "26c18694",
   "metadata": {},
   "outputs": [
    {
     "name": "stdout",
     "output_type": "stream",
     "text": [
      "PDE derived using STRidge\n",
      "u_t = (-0.456847 +0.000000i)u^2u_{x}\n",
      "   \n"
     ]
    },
    {
     "name": "stderr",
     "output_type": "stream",
     "text": [
      "/Users/rajgark/Documents/GitHub/COLSA-PySINDy/PDE_FIND.py:430: FutureWarning: `rcond` parameter will change to the default of machine precision times ``max(M, N)`` where M and N are the input matrix dimensions.\n",
      "To use the future default and silence this warning we advise to pass `rcond=None`, to keep using the old, explicitly pass `rcond=-1`.\n",
      "  w_best = np.linalg.lstsq(TrainR, TrainY)[0]\n",
      "/Users/rajgark/Documents/GitHub/COLSA-PySINDy/PDE_FIND.py:575: FutureWarning: `rcond` parameter will change to the default of machine precision times ``max(M, N)`` where M and N are the input matrix dimensions.\n",
      "To use the future default and silence this warning we advise to pass `rcond=None`, to keep using the old, explicitly pass `rcond=-1`.\n",
      "  if lam != 0: w = np.linalg.lstsq(X.T.dot(X) + lam*np.eye(d),X.T.dot(y))[0]\n",
      "/Users/rajgark/Documents/GitHub/COLSA-PySINDy/PDE_FIND.py:601: FutureWarning: `rcond` parameter will change to the default of machine precision times ``max(M, N)`` where M and N are the input matrix dimensions.\n",
      "To use the future default and silence this warning we advise to pass `rcond=None`, to keep using the old, explicitly pass `rcond=-1`.\n",
      "  if lam != 0: w[biginds] = np.linalg.lstsq(X[:, biginds].T.dot(X[:, biginds]) + lam*np.eye(len(biginds)),X[:, biginds].T.dot(y))[0]\n",
      "/Users/rajgark/Documents/GitHub/COLSA-PySINDy/PDE_FIND.py:605: FutureWarning: `rcond` parameter will change to the default of machine precision times ``max(M, N)`` where M and N are the input matrix dimensions.\n",
      "To use the future default and silence this warning we advise to pass `rcond=None`, to keep using the old, explicitly pass `rcond=-1`.\n",
      "  if biginds != []: w[biginds] = np.linalg.lstsq(X[:, biginds],y)[0]\n"
     ]
    }
   ],
   "source": [
    "# Solve with STRidge\n",
    "w = pdefind.TrainSTRidge(R,Ut,10**-5,1)\n",
    "print(\"PDE derived using STRidge\")\n",
    "pdefind.print_pde(w, rhs_des)"
   ]
  },
  {
   "cell_type": "code",
   "execution_count": null,
   "id": "bd8b2e66",
   "metadata": {},
   "outputs": [],
   "source": []
  },
  {
   "cell_type": "code",
   "execution_count": null,
   "id": "c1c74554-c7e5-45ba-b717-0a9132ff34c5",
   "metadata": {},
   "outputs": [],
   "source": []
  },
  {
   "cell_type": "code",
   "execution_count": null,
   "id": "a8139d06-6980-4b10-9871-a672fd302945",
   "metadata": {},
   "outputs": [],
   "source": []
  },
  {
   "cell_type": "code",
   "execution_count": null,
   "id": "6c39b6ef-5156-474d-a34f-f11db5cd6db5",
   "metadata": {},
   "outputs": [],
   "source": []
  },
  {
   "cell_type": "code",
   "execution_count": 77,
   "id": "01d5b240",
   "metadata": {},
   "outputs": [
    {
     "data": {
      "image/png": "[encoded data removed]",
      "text/plain": [
       "<Figure size 1008x720 with 1 Axes>"
      ]
     },
     "metadata": {
      "needs_background": "light"
     },
     "output_type": "display_data"
    }
   ],
   "source": [
    "%matplotlib inline \n",
    "plt.figure(figsize = (14,10))\n",
    "\n",
    "length = 10**6\n",
    "dt = 0.01\n",
    "np.random.seed(0)\n",
    "pos = np.cumsum(np.sqrt(dt)*np.random.randn(length))\n",
    "P = {}\n",
    "M = 0\n",
    "\n",
    "m = 5\n",
    "n = 300\n",
    "\n",
    "for i in range(m):\n",
    "    P[i] = []\n",
    "    \n",
    "for i in range(len(pos)-m):\n",
    "    \n",
    "    # center\n",
    "    y = pos[i+1:i+m+1] - pos[i]\n",
    "    M = max([M, max(abs(y))])\n",
    "    \n",
    "    # add to distribution\n",
    "    for j in range(m):\n",
    "        P[j].append(y[j])\n",
    "    \n",
    "bins = np.linspace(-M,M,n+1)\n",
    "x = np.linspace(M*(1/n-1),M*(1-1/n),n)\n",
    "dx = x[2]-x[1]\n",
    "T = np.linspace(0,dt*(m-1),m)\n",
    "U = np.zeros((n,m))\n",
    "for i in range(m):\n",
    "    U[:,i] = plt.hist(P[i],bins,label=r'$t = $' + str(i*dt+dt))[0]/float(dx*(len(pos)-m))\n",
    "    \n",
    "plt.xlabel('Location')\n",
    "plt.ylabel(r'$f(x,t)$')\n",
    "plt.title(r'Histograms for $f(x,t)$')\n",
    "#xticks(fontsize = tickfontsize); yticks(fontsize = tickfontsize)\n",
    "plt.legend(loc = 'upper right')\n",
    "plt.show()"
   ]
  },
  {
   "cell_type": "code",
   "execution_count": 80,
   "id": "b97c977a-cc45-4b10-9c64-4505736a13b4",
   "metadata": {},
   "outputs": [
    {
     "name": "stdout",
     "output_type": "stream",
     "text": [
      "Candidate functions for PDE\n",
      "1\n",
      "u\n",
      "u^2\n",
      "u^3\n",
      "u^4\n",
      "u^5\n",
      "u_{x}\n",
      "uu_{x}\n",
      "u^2u_{x}\n",
      "u^3u_{x}\n",
      "u^4u_{x}\n",
      "u^5u_{x}\n",
      "u_{xx}\n",
      "uu_{xx}\n",
      "u^2u_{xx}\n",
      "u^3u_{xx}\n",
      "u^4u_{xx}\n",
      "u^5u_{xx}\n",
      "u_{xxx}\n",
      "uu_{xxx}\n",
      "u^2u_{xxx}\n",
      "u^3u_{xxx}\n",
      "u^4u_{xxx}\n",
      "u^5u_{xxx}\n",
      "u_{xxxx}\n",
      "uu_{xxxx}\n",
      "u^2u_{xxxx}\n",
      "u^3u_{xxxx}\n",
      "u^4u_{xxxx}\n",
      "u^5u_{xxxx}\n",
      "\n",
      "PDE derived from data:\n",
      "u_t = (0.495107 +0.000000i)u_{xx}\n",
      "   \n"
     ]
    }
   ],
   "source": [
    "Ut,R,rhs_des = pdefind.build_linear_system(U, dt, dx, D=4, P=5, time_diff = 'FD', deg_x = 4, width_x = 30, width_t = 1)\n",
    "w = pdefind.TrainSTRidge(R, Ut, 10**-2, 10, normalize = 2)\n",
    "\n",
    "print(\"Candidate functions for PDE\")\n",
    "for func in ['1'] + rhs_des[1:]: print(func)\n",
    "\n",
    "print(\"\\nPDE derived from data:\")\n",
    "pdefind.print_pde(w, rhs_des)"
   ]
  },
  {
   "cell_type": "code",
   "execution_count": 81,
   "id": "5edc7997",
   "metadata": {},
   "outputs": [
    {
     "data": {
      "image/png": "[encoded data removed]",
      "text/plain": [
       "<Figure size 1008x720 with 1 Axes>"
      ]
     },
     "metadata": {
      "needs_background": "light"
     },
     "output_type": "display_data"
    }
   ],
   "source": [
    "%matplotlib inline\n",
    "plt.figure(figsize = (14,10))\n",
    "\n",
    "length = 10**6\n",
    "\n",
    "dt = 0.08    # Advection Term\n",
    "c = 5         # Diffusion Term\n",
    "\n",
    "np.random.seed(0)\n",
    "pos = np.cumsum(np.sqrt(dt)*np.random.randn(length)) + c*dt*np.arange(length)\n",
    "\n",
    "P = {}\n",
    "M = 0\n",
    "\n",
    "m = 5\n",
    "n = 300\n",
    "\n",
    "for i in range(m):\n",
    "    P[i] = []\n",
    "    \n",
    "for i in range(len(pos)-m):\n",
    "    \n",
    "    # center\n",
    "    y = pos[i+1:i+m+1] - pos[i]\n",
    "    M = max([M, max(abs(y))])\n",
    "    \n",
    "    # add to distribution\n",
    "    for j in range(m):\n",
    "        P[j].append(y[j])\n",
    "    \n",
    "bins = np.linspace(-M,M,n+1)\n",
    "x = np.linspace(M*(1/n-1),M*(1-1/n),n)\n",
    "dx = x[2]-x[1]\n",
    "T =  np.linspace(0,dt*(m-1),m)\n",
    "U = np.zeros((n,m))\n",
    "for i in range(m):\n",
    "    U[:,i] = plt.hist(P[i],bins,label=r'$t = $' + str(i*dt+dt))[0]/float(dx*(len(pos)-m))\n",
    "    \n",
    "    \n",
    "plt.xlabel('Location')\n",
    "plt.ylabel(r'$f(x,t)$')\n",
    "plt.title(r'Histograms for $f(x,t)$')\n",
    "#plt.xticks(fontsize = tickfontsize); yticks(fontsize = tickfontsize)\n",
    "plt.legend(loc = 'upper right', fontsize = 14)\n",
    "plt.show()"
   ]
  },
  {
   "cell_type": "code",
   "execution_count": 83,
   "id": "732cc446-1deb-49eb-b380-5d4f123c36d1",
   "metadata": {},
   "outputs": [
    {
     "name": "stdout",
     "output_type": "stream",
     "text": [
      "Candidate functions for PDE\n",
      "1\n",
      "u\n",
      "u^2\n",
      "u^3\n",
      "u^4\n",
      "u^5\n",
      "u_{x}\n",
      "uu_{x}\n",
      "u^2u_{x}\n",
      "u^3u_{x}\n",
      "u^4u_{x}\n",
      "u^5u_{x}\n",
      "u_{xx}\n",
      "uu_{xx}\n",
      "u^2u_{xx}\n",
      "u^3u_{xx}\n",
      "u^4u_{xx}\n",
      "u^5u_{xx}\n",
      "u_{xxx}\n",
      "uu_{xxx}\n",
      "u^2u_{xxx}\n",
      "u^3u_{xxx}\n",
      "u^4u_{xxx}\n",
      "u^5u_{xxx}\n",
      "u_{xxxx}\n",
      "uu_{xxxx}\n",
      "u^2u_{xxxx}\n",
      "u^3u_{xxxx}\n",
      "u^4u_{xxxx}\n",
      "u^5u_{xxxx}\n",
      "\n",
      "PDE derived with STRidge and L^2 normalization (Correct PDE!)\n",
      "u_t = (-5.055071 -0.000000i)u_{x}\n",
      "   \n",
      "PDE derived with STRidge without normalization (Correct PDE!)\n",
      "u_t = (13.010323 +0.000000i)u\n",
      "    + (-168.589905 +0.000000i)u^3\n",
      "    + (89.677979 +0.000000i)u^4\n",
      "    + (111.515633 +0.000000i)u^5\n",
      "    + (-4.800369 +0.000000i)u_{x}\n",
      "    + (2.144053 +0.000000i)uu_{x}\n",
      "    + (0.675271 +0.000000i)u^2u_{x}\n",
      "    + (-24.712797 +0.000000i)u^3u_{x}\n",
      "    + (12.063958 +0.000000i)u^5u_{x}\n",
      "    + (1.246425 +0.000000i)u_{xx}\n",
      "    + (-45.267448 +0.000000i)uu_{xx}\n",
      "    + (26.681133 +0.000000i)u^2u_{xx}\n",
      "    + (108.864235 +0.000000i)u^3u_{xx}\n",
      "    + (-200.345718 +0.000000i)u^4u_{xx}\n",
      "    + (140.843582 +0.000000i)u^5u_{xx}\n",
      "    + (1.111851 +0.000000i)uu_{xxx}\n",
      "    + (-2.990940 +0.000000i)u^2u_{xxx}\n",
      "    + (-4.138745 +0.000000i)uu_{xxxx}\n",
      "    + (7.714623 +0.000000i)u^2u_{xxxx}\n",
      "    + (-11.434734 +0.000000i)u^4u_{xxxx}\n",
      "    + (10.741995 +0.000000i)u^5u_{xxxx}\n",
      "   \n",
      "PDE derived with greedy algorithm (Correct PDE!)\n",
      "u_t = (-5.193624 +0.000000i)u_{x}\n",
      "    + (-0.108977 +0.000000i)u_{xxxx}\n",
      "   \n"
     ]
    }
   ],
   "source": [
    "Ut,R,rhs_des = pdefind.build_linear_system(U, dt, dx, D=4, P=5, time_diff = 'FD', deg_x = 4, width_x = 30, width_t = 1)\n",
    "\n",
    "print(\"Candidate functions for PDE\")\n",
    "for func in ['1'] + rhs_des[1:]: print(func)\n",
    "\n",
    "print(\"\\nPDE derived with STRidge and L^2 normalization (Correct PDE!)\")\n",
    "w = pdefind.TrainSTRidge(R, Ut, 1, 4, normalize = 2)\n",
    "pdefind.print_pde(w, rhs_des)\n",
    "\n",
    "print(\"PDE derived with STRidge without normalization (Correct PDE!)\")\n",
    "w = pdefind.TrainSTRidge(R, Ut, 1, 0.01, normalize = 0)\n",
    "pdefind.print_pde(w, rhs_des)\n",
    "\n",
    "print(\"PDE derived with greedy algorithm (Correct PDE!)\")\n",
    "w = pdefind.FoBaGreedy(R, Ut,10)\n",
    "pdefind.print_pde(w, rhs_des)"
   ]
  },
  {
   "cell_type": "code",
   "execution_count": null,
   "id": "b0e5d44d-e6b6-4777-a24d-0787ebc39c4b",
   "metadata": {},
   "outputs": [],
   "source": []
  },
  {
   "cell_type": "code",
   "execution_count": null,
   "id": "6f9eba09-c435-49c9-9ff2-d69e1f655390",
   "metadata": {},
   "outputs": [],
   "source": []
  },
  {
   "cell_type": "code",
   "execution_count": null,
   "id": "a25dfd62-8b3a-461f-90e5-d31ee160081b",
   "metadata": {},
   "outputs": [],
   "source": []
  },
  {
   "cell_type": "code",
   "execution_count": null,
   "id": "20a8f86b-8d3f-498e-a62e-4f71a6e0e3d4",
   "metadata": {},
   "outputs": [],
   "source": []
  },
  {
   "cell_type": "code",
   "execution_count": null,
   "id": "493df20c-a695-4592-b685-7c4633f0d7a8",
   "metadata": {},
   "outputs": [],
   "source": []
  },
  {
   "cell_type": "code",
   "execution_count": null,
   "id": "70c000b8",
   "metadata": {},
   "outputs": [],
   "source": []
  },
  {
   "cell_type": "code",
   "execution_count": null,
   "id": "e7792688",
   "metadata": {},
   "outputs": [],
   "source": [
    "def discrete_laplacian(u, bdy):\n",
    "    if bdy == 'Periodic':\n",
    "        L = -4*u\n",
    "        L += np.roll(u, (0,-1), (0,1))\n",
    "        L += np.roll(u, (0,+1), (0,1))\n",
    "        L += np.roll(u, (-1,0), (0,1))\n",
    "        L += np.roll(u, (+1,0), (0,1))\n",
    "        return L\n",
    "    elif bdy == 'Dirichlet':\n",
    "        v = np.pad(u, 1, constant_values=0)\n",
    "    elif bdy == 'Neumann':\n",
    "        v = np.pad(u, 1, mode='edge')\n",
    "    L = -4*v\n",
    "    L += np.roll(v, (0,-1), (0,1))\n",
    "    L += np.roll(v, (0,+1), (0,1))\n",
    "    L += np.roll(v, (-1,0), (0,1))\n",
    "    L += np.roll(v, (+1,0), (0,1))\n",
    "    L = L[1:-1,1:-1]\n",
    "    return L\n",
    "\n",
    "def leapfrog(u0, um, cfl, bdy):\n",
    "    up = 2*u0 - um + cfl**2*discrete_laplacian(u0, bdy)\n",
    "    return up, u0\n",
    "\n",
    "def define_initial_condition(f, g, dt, bdy):\n",
    "    u0 = f + 0.5*cfl**2*discrete_laplacian(f, bdy) + dt*g\n",
    "    return u0, f\n",
    "\n",
    "def update_solution(f, g, cfl, dt, bdy, Nframes, Nskip):\n",
    "    n = 0\n",
    "    u0, um = define_initial_condition(f, g, dt, bdy)\n",
    "    while n<Nframes:\n",
    "        n += 1\n",
    "        for k in range(Nskip):\n",
    "            u0, um = leapfrog(u0, um, cfl, bdy)\n",
    "        yield u0\n",
    "\n",
    "def update_graph(u, ls, imu):\n",
    "    imu.set_array(ls.hillshade(u))"
   ]
  },
  {
   "cell_type": "code",
   "execution_count": null,
   "id": "bbe64807",
   "metadata": {},
   "outputs": [],
   "source": [
    "# model parameter\n",
    "c = 1       # speed constant\n",
    "L = 100      # domain length\n",
    "\n",
    "# numerical parameters\n",
    "N = 800    # grid size\n",
    "\n",
    "# define a function that simulates a raindrop\n",
    "def pebble(X, Y, width, positionX, positionY):\n",
    "    r = width*np.sqrt((X-positionX)**2 + (Y-positionY)**2)\n",
    "    u = np.random.uniform(-1., 1., 1)*np.cos(1.9*r)/np.cosh(r)\n",
    "    return u\n",
    "\n",
    "x = np.linspace(0, L, N)\n",
    "X, Y = np.meshgrid(x, x)\n",
    "\n",
    "# initial displacement consists of three separate raindrops \n",
    "f =  pebble(X, Y, 3.5, 0.35*L, 0.5*L)\n",
    "f += pebble(X, Y, 3, 0.6*L, 0.6*L)\n",
    "f += pebble(X, Y, 4, 0.7*L, 0.2*L)\n",
    "\n",
    "# initial velocity is zero\n",
    "g = np.zeros((N,N))\n",
    "\n",
    "# animation parameters\n",
    "Nsteps = 400\n",
    "Nskip = 10\n",
    "\n",
    "# set time step to satisfy leapfrog stability criterion (cfl < 1/sqrt(2) ~ 0.7)\n",
    "cfl = 0.6\n",
    "dx = L/N\n",
    "dt = cfl * dx / c\n",
    "#dt = 0.00001\n",
    "\n",
    "# compute and animate solution\n",
    "Nframes = int(Nsteps/Nskip)\n",
    "extent = [0, L, 0, L]\n",
    "\n",
    "fig, ax = plt.subplots(1,1,figsize=(5,5))\n",
    "ls = LightSource(azdeg=220, altdeg=70)\n",
    "imu = ax.imshow(ls.hillshade(f), cmap='terrain', animated=True, extent=extent, origin='lower')\n",
    "ani = animate.FuncAnimation(fig, update_graph,\n",
    "                              update_solution(f, g, cfl, dt, 'Neumann', Nframes, Nskip),\n",
    "                              fargs=(ls, imu), repeat=False)\n",
    "plt.tight_layout()\n",
    "plt.show()"
   ]
  },
  {
   "cell_type": "code",
   "execution_count": null,
   "id": "82164463",
   "metadata": {},
   "outputs": [],
   "source": [
    "f.shape"
   ]
  },
  {
   "cell_type": "code",
   "execution_count": null,
   "id": "6df04610",
   "metadata": {},
   "outputs": [],
   "source": [
    "Ut, R, rhs_des = pdefind.build_linear_system(f, dt, dx, D=3, P=3, time_diff = 'FD', space_diff = 'FD')"
   ]
  },
  {
   "cell_type": "code",
   "execution_count": null,
   "id": "c4a32f4b",
   "metadata": {},
   "outputs": [],
   "source": [
    "['1']+rhs_des[1:]"
   ]
  },
  {
   "cell_type": "code",
   "execution_count": null,
   "id": "cfcf3509",
   "metadata": {},
   "outputs": [],
   "source": [
    "# w = pdefind.TrainSTRidge(R,Ut,10**-5,5)\n",
    "# print(\"PDE derived using STRidge\")\n",
    "# pdefind.print_pde(w, rhs_des)"
   ]
  },
  {
   "cell_type": "code",
   "execution_count": null,
   "id": "da793a5e",
   "metadata": {},
   "outputs": [],
   "source": []
  }
 ],
 "metadata": {
  "kernelspec": {
   "display_name": "Python 3",
   "language": "python",
   "name": "python3"
  },
  "language_info": {
   "codemirror_mode": {
    "name": "ipython",
    "version": 3
   },
   "file_extension": ".py",
   "mimetype": "text/x-python",
   "name": "python",
   "nbconvert_exporter": "python",
   "pygments_lexer": "ipython3",
   "version": "3.8.10"
  }
 },
 "nbformat": 4,
 "nbformat_minor": 5
}
