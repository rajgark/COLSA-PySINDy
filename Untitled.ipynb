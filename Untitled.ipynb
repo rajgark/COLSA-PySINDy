{
 "cells": [
  {
   "cell_type": "markdown",
   "id": "c60f3af3",
   "metadata": {},
   "source": [
    "# PySINDy Exploration & Applications\n",
    "\n",
    "## COLSA Corporation \n",
    "\n",
    "### Raj Garkhedkar, DACS Lab Summer 2021 Intern"
   ]
  },
  {
   "cell_type": "markdown",
   "id": "ed958656",
   "metadata": {},
   "source": [
    "-- -- -- -- -- --\n",
    "###### Links \n",
    "[Deep Learning Machine Solves the Cocktail Party Problem](https://www.technologyreview.com/2015/04/29/168316/deep-learning-machine-solves-the-cocktail-party-problem/)\n",
    "\n",
    "[Deep Karaoke: Extracting Vocals](https://arxiv.org/abs/1504.04658)\n",
    "\n",
    "[Diff Eq's in Physics](https://olewitthansen.dk/Physics/differential_equations_of_physics.pdf)"
   ]
  }
 ],
 "metadata": {
  "kernelspec": {
   "display_name": "Python 3",
   "language": "python",
   "name": "python3"
  },
  "language_info": {
   "codemirror_mode": {
    "name": "ipython",
    "version": 3
   },
   "file_extension": ".py",
   "mimetype": "text/x-python",
   "name": "python",
   "nbconvert_exporter": "python",
   "pygments_lexer": "ipython3",
   "version": "3.8.10"
  }
 },
 "nbformat": 4,
 "nbformat_minor": 5
}
